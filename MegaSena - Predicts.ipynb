{
 "cells": [
  {
   "cell_type": "code",
   "execution_count": 1,
   "metadata": {},
   "outputs": [],
   "source": [
    "import pandas as pd\n",
    "from collections import Counter\n",
    "import numpy as np"
   ]
  },
  {
   "cell_type": "code",
   "execution_count": 2,
   "metadata": {},
   "outputs": [],
   "source": [
    "def createMatriz(dataFrame):\n",
    "    values = []\n",
    "    for i in range(len(dataFrame)):\n",
    "        values.append([\n",
    "             dataFrame.loc[i][\"N1\"], \n",
    "             dataFrame.loc[i][\"N2\"], \n",
    "             dataFrame.loc[i][\"N3\"], \n",
    "             dataFrame.loc[i][\"N4\"], \n",
    "             dataFrame.loc[i][\"N5\"],\n",
    "             dataFrame.loc[i][\"N6\"]])\n",
    "        \n",
    "    return values\n",
    "\n",
    "def createDict(init:int, end:int):\n",
    "    dictCopy = {}\n",
    "    for i in range(init, end):\n",
    "        dictCopy[i] = 0\n",
    "\n",
    "    return dictCopy"
   ]
  },
  {
   "cell_type": "markdown",
   "metadata": {},
   "source": [
    "### A função frequenceNumber(listNumber, nReference), faz uma varredura nas linhas da matriz [listNumber], em busca do valor de referência (nReference) e calcula a frequência dos valores mais associados (presentes nos jogos) ao número solicitado. Ao final temos um dicionário com: "
   ]
  },
  {
   "cell_type": "markdown",
   "metadata": {},
   "source": [
    "~~~python \n",
    "[{\n",
    "  1: 29,\n",
    "  2: 23,\n",
    "  3: 28,\n",
    "  4: 21,\n",
    "  5: 0,\n",
    " ...\n",
    "}, 1285].\n",
    "~~~\n",
    "##### Obs: O próprio número obtém frequência 0, porém, ao final é retornado a frequência total do valor: neste caso para o valor nReference = 5, temos: 1285."
   ]
  },
  {
   "cell_type": "code",
   "execution_count": 3,
   "metadata": {},
   "outputs": [],
   "source": [
    "#\n",
    "def frequenceNumber(listNumber: [], nReference: int):\n",
    "    copy = createDict(1, 61)\n",
    "    count = 0\n",
    "\n",
    "    for y in range(len(listNumber)):\n",
    "        if( nReference in listNumber[y] ):\n",
    "            for x in range(len(listNumber[0])):\n",
    "                if( listNumber[y][x] != nReference ):\n",
    "                    copy[listNumber[y][x]] += 1\n",
    "                    count += 1\n",
    "\n",
    "    return [copy, count]"
   ]
  },
  {
   "cell_type": "markdown",
   "metadata": {},
   "source": [
    "### A função selectMaxNumbers(dictNumber, outSide) tem como objetivo, retornar uma quantidade especifica de valores (outSide) associados que se deseja estudar do dicionário (dictNumber). Por exemplo:"
   ]
  },
  {
   "cell_type": "markdown",
   "metadata": {},
   "source": [
    "~~~python\n",
    "{13: 28, 48: 28, 53: 28, 4: 26, 27: 26, 33: 26, 42: 26}\n",
    "~~~\n",
    "#### Para o valor (outSide = 7), ele retorna os 7 valores mais frequentes associados ao valor chave."
   ]
  },
  {
   "cell_type": "code",
   "execution_count": 4,
   "metadata": {},
   "outputs": [],
   "source": [
    "def selectMaxNumbers(dictNumber: {}, outSide: int):\n",
    "    n = {}\n",
    "\n",
    "    for aux in range(outSide):\n",
    "        for count in range(1, 61):\n",
    "            if( dictNumber[count] == max(dictNumber.values()) and max(dictNumber.values()) != 0 ):\n",
    "                n[count] = dictNumber[count]\n",
    "                dictNumber[count] = 0\n",
    "                break\n",
    "\n",
    "    return n"
   ]
  },
  {
   "cell_type": "code",
   "execution_count": 5,
   "metadata": {},
   "outputs": [
    {
     "data": {
      "text/html": [
       "<div>\n",
       "<style scoped>\n",
       "    .dataframe tbody tr th:only-of-type {\n",
       "        vertical-align: middle;\n",
       "    }\n",
       "\n",
       "    .dataframe tbody tr th {\n",
       "        vertical-align: top;\n",
       "    }\n",
       "\n",
       "    .dataframe thead th {\n",
       "        text-align: right;\n",
       "    }\n",
       "</style>\n",
       "<table border=\"1\" class=\"dataframe\">\n",
       "  <thead>\n",
       "    <tr style=\"text-align: right;\">\n",
       "      <th></th>\n",
       "      <th>Concurso</th>\n",
       "      <th>Data</th>\n",
       "      <th>N1</th>\n",
       "      <th>N2</th>\n",
       "      <th>N3</th>\n",
       "      <th>N4</th>\n",
       "      <th>N5</th>\n",
       "      <th>N6</th>\n",
       "      <th>Ganhadores</th>\n",
       "      <th>Premio</th>\n",
       "      <th>HouveGanhador</th>\n",
       "    </tr>\n",
       "  </thead>\n",
       "  <tbody>\n",
       "    <tr>\n",
       "      <th>0</th>\n",
       "      <td>2324</td>\n",
       "      <td>05/12/2020</td>\n",
       "      <td>2</td>\n",
       "      <td>16</td>\n",
       "      <td>19</td>\n",
       "      <td>31</td>\n",
       "      <td>43</td>\n",
       "      <td>60</td>\n",
       "      <td>0</td>\n",
       "      <td>NaN</td>\n",
       "      <td>0</td>\n",
       "    </tr>\n",
       "    <tr>\n",
       "      <th>1</th>\n",
       "      <td>2323</td>\n",
       "      <td>02/12/2020</td>\n",
       "      <td>20</td>\n",
       "      <td>27</td>\n",
       "      <td>35</td>\n",
       "      <td>39</td>\n",
       "      <td>50</td>\n",
       "      <td>59</td>\n",
       "      <td>0</td>\n",
       "      <td>NaN</td>\n",
       "      <td>0</td>\n",
       "    </tr>\n",
       "    <tr>\n",
       "      <th>2</th>\n",
       "      <td>2322</td>\n",
       "      <td>28/11/2020</td>\n",
       "      <td>2</td>\n",
       "      <td>5</td>\n",
       "      <td>10</td>\n",
       "      <td>29</td>\n",
       "      <td>34</td>\n",
       "      <td>41</td>\n",
       "      <td>0</td>\n",
       "      <td>NaN</td>\n",
       "      <td>0</td>\n",
       "    </tr>\n",
       "    <tr>\n",
       "      <th>3</th>\n",
       "      <td>2321</td>\n",
       "      <td>25/11/2020</td>\n",
       "      <td>14</td>\n",
       "      <td>25</td>\n",
       "      <td>28</td>\n",
       "      <td>41</td>\n",
       "      <td>43</td>\n",
       "      <td>46</td>\n",
       "      <td>1</td>\n",
       "      <td>3036906.71</td>\n",
       "      <td>1</td>\n",
       "    </tr>\n",
       "    <tr>\n",
       "      <th>4</th>\n",
       "      <td>2320</td>\n",
       "      <td>21/11/2020</td>\n",
       "      <td>6</td>\n",
       "      <td>30</td>\n",
       "      <td>35</td>\n",
       "      <td>39</td>\n",
       "      <td>42</td>\n",
       "      <td>48</td>\n",
       "      <td>1</td>\n",
       "      <td>76128023.58</td>\n",
       "      <td>1</td>\n",
       "    </tr>\n",
       "  </tbody>\n",
       "</table>\n",
       "</div>"
      ],
      "text/plain": [
       "   Concurso        Data  N1  N2  N3  N4  N5  N6  Ganhadores       Premio  \\\n",
       "0      2324  05/12/2020   2  16  19  31  43  60           0          NaN   \n",
       "1      2323  02/12/2020  20  27  35  39  50  59           0          NaN   \n",
       "2      2322  28/11/2020   2   5  10  29  34  41           0          NaN   \n",
       "3      2321  25/11/2020  14  25  28  41  43  46           1   3036906.71   \n",
       "4      2320  21/11/2020   6  30  35  39  42  48           1  76128023.58   \n",
       "\n",
       "   HouveGanhador  \n",
       "0              0  \n",
       "1              0  \n",
       "2              0  \n",
       "3              1  \n",
       "4              1  "
      ]
     },
     "execution_count": 5,
     "metadata": {},
     "output_type": "execute_result"
    }
   ],
   "source": [
    "ms = pd.read_excel('MegaSena.xlsx')\n",
    "ms.head()"
   ]
  },
  {
   "cell_type": "markdown",
   "metadata": {},
   "source": [
    "#### Verificando o percentual de ganhadores"
   ]
  },
  {
   "cell_type": "code",
   "execution_count": 6,
   "metadata": {},
   "outputs": [],
   "source": [
    "df_ganhadores = ms['Ganhadores']"
   ]
  },
  {
   "cell_type": "code",
   "execution_count": 7,
   "metadata": {},
   "outputs": [],
   "source": [
    "wins = df_ganhadores[(df_ganhadores != 0)]; loss = df_ganhadores[(df_ganhadores == 0)]"
   ]
  },
  {
   "cell_type": "code",
   "execution_count": 8,
   "metadata": {},
   "outputs": [
    {
     "name": "stdout",
     "output_type": "stream",
     "text": [
      "No total, 22.892% dos sorteios houve 1 ganhador ou mais.\n",
      "Resultando em um percentual de 77.108% de sorteios sem vencedores.\n"
     ]
    }
   ],
   "source": [
    "wins_freq = (wins.count()/df_ganhadores.count())*100; \n",
    "print(\"No total, %.3f%% dos sorteios houve 1 ganhador ou mais.\" % wins_freq)\n",
    "print(\"Resultando em um percentual de %.3f%% de sorteios sem vencedores.\" % (100-wins_freq))"
   ]
  },
  {
   "cell_type": "code",
   "execution_count": 9,
   "metadata": {},
   "outputs": [
    {
     "data": {
      "text/plain": [
       "0.3489672977624785"
      ]
     },
     "execution_count": 9,
     "metadata": {},
     "output_type": "execute_result"
    }
   ],
   "source": [
    "df_ganhadores.mean()"
   ]
  },
  {
   "cell_type": "markdown",
   "metadata": {},
   "source": [
    "## Unindo todos os valores jogados em uma única coluna"
   ]
  },
  {
   "cell_type": "code",
   "execution_count": 10,
   "metadata": {},
   "outputs": [],
   "source": [
    "all_values = pd.concat([ms.N1, ms.N2, ms.N3, ms.N4, ms.N5, ms.N6])"
   ]
  },
  {
   "cell_type": "markdown",
   "metadata": {},
   "source": [
    "## Agrupando os valores e verificando a frequência geral dos valores"
   ]
  },
  {
   "cell_type": "code",
   "execution_count": 11,
   "metadata": {},
   "outputs": [
    {
     "data": {
      "text/plain": [
       "0        2\n",
       "1       20\n",
       "2        2\n",
       "3       14\n",
       "4        6\n",
       "        ..\n",
       "2319    46\n",
       "2320    59\n",
       "2321    47\n",
       "2322    49\n",
       "2323    52\n",
       "Length: 13944, dtype: int64"
      ]
     },
     "execution_count": 11,
     "metadata": {},
     "output_type": "execute_result"
    }
   ],
   "source": [
    "all_values"
   ]
  },
  {
   "cell_type": "code",
   "execution_count": 12,
   "metadata": {},
   "outputs": [],
   "source": [
    "count = Counter(all_values.sort_values(ascending=True))"
   ]
  },
  {
   "cell_type": "code",
   "execution_count": 13,
   "metadata": {},
   "outputs": [
    {
     "data": {
      "text/plain": [
       "collections.Counter"
      ]
     },
     "execution_count": 13,
     "metadata": {},
     "output_type": "execute_result"
    }
   ],
   "source": [
    "type(count)"
   ]
  },
  {
   "cell_type": "code",
   "execution_count": 14,
   "metadata": {},
   "outputs": [],
   "source": [
    "df = pd.DataFrame.from_dict(count, orient='index') #convertendo o objeto collections.Count em pd.DataFrame"
   ]
  },
  {
   "cell_type": "code",
   "execution_count": 15,
   "metadata": {},
   "outputs": [
    {
     "data": {
      "text/html": [
       "<div>\n",
       "<style scoped>\n",
       "    .dataframe tbody tr th:only-of-type {\n",
       "        vertical-align: middle;\n",
       "    }\n",
       "\n",
       "    .dataframe tbody tr th {\n",
       "        vertical-align: top;\n",
       "    }\n",
       "\n",
       "    .dataframe thead th {\n",
       "        text-align: right;\n",
       "    }\n",
       "</style>\n",
       "<table border=\"1\" class=\"dataframe\">\n",
       "  <thead>\n",
       "    <tr style=\"text-align: right;\">\n",
       "      <th></th>\n",
       "      <th>0</th>\n",
       "    </tr>\n",
       "  </thead>\n",
       "  <tbody>\n",
       "    <tr>\n",
       "      <th>1</th>\n",
       "      <td>231</td>\n",
       "    </tr>\n",
       "    <tr>\n",
       "      <th>2</th>\n",
       "      <td>238</td>\n",
       "    </tr>\n",
       "    <tr>\n",
       "      <th>3</th>\n",
       "      <td>212</td>\n",
       "    </tr>\n",
       "    <tr>\n",
       "      <th>4</th>\n",
       "      <td>251</td>\n",
       "    </tr>\n",
       "    <tr>\n",
       "      <th>5</th>\n",
       "      <td>257</td>\n",
       "    </tr>\n",
       "  </tbody>\n",
       "</table>\n",
       "</div>"
      ],
      "text/plain": [
       "     0\n",
       "1  231\n",
       "2  238\n",
       "3  212\n",
       "4  251\n",
       "5  257"
      ]
     },
     "execution_count": 15,
     "metadata": {},
     "output_type": "execute_result"
    }
   ],
   "source": [
    "df.head()"
   ]
  },
  {
   "cell_type": "code",
   "execution_count": 16,
   "metadata": {},
   "outputs": [],
   "source": [
    "df.columns = ['freq'] #renomeado a coluna da frequência"
   ]
  },
  {
   "cell_type": "code",
   "execution_count": 17,
   "metadata": {},
   "outputs": [],
   "source": [
    "total = df['freq'].sum() #total de valores (daria no mesmo fazer (ms['Concurso'].count())/6 )\n",
    "jogos = ms['Concurso'].count() #número total de jogos"
   ]
  },
  {
   "cell_type": "code",
   "execution_count": 18,
   "metadata": {},
   "outputs": [
    {
     "data": {
      "text/plain": [
       "13944"
      ]
     },
     "execution_count": 18,
     "metadata": {},
     "output_type": "execute_result"
    }
   ],
   "source": [
    "total"
   ]
  },
  {
   "cell_type": "code",
   "execution_count": 19,
   "metadata": {},
   "outputs": [
    {
     "data": {
      "text/plain": [
       "2324"
      ]
     },
     "execution_count": 19,
     "metadata": {},
     "output_type": "execute_result"
    }
   ],
   "source": [
    "jogos"
   ]
  },
  {
   "cell_type": "markdown",
   "metadata": {},
   "source": [
    "#### Selecionando valores leatórios dentro dos 50 números mais sorteados"
   ]
  },
  {
   "cell_type": "code",
   "execution_count": 20,
   "metadata": {},
   "outputs": [
    {
     "data": {
      "text/html": [
       "<div>\n",
       "<style scoped>\n",
       "    .dataframe tbody tr th:only-of-type {\n",
       "        vertical-align: middle;\n",
       "    }\n",
       "\n",
       "    .dataframe tbody tr th {\n",
       "        vertical-align: top;\n",
       "    }\n",
       "\n",
       "    .dataframe thead th {\n",
       "        text-align: right;\n",
       "    }\n",
       "</style>\n",
       "<table border=\"1\" class=\"dataframe\">\n",
       "  <thead>\n",
       "    <tr style=\"text-align: right;\">\n",
       "      <th></th>\n",
       "      <th>freq</th>\n",
       "    </tr>\n",
       "  </thead>\n",
       "  <tbody>\n",
       "    <tr>\n",
       "      <th>10</th>\n",
       "      <td>265</td>\n",
       "    </tr>\n",
       "    <tr>\n",
       "      <th>53</th>\n",
       "      <td>264</td>\n",
       "    </tr>\n",
       "    <tr>\n",
       "      <th>5</th>\n",
       "      <td>257</td>\n",
       "    </tr>\n",
       "    <tr>\n",
       "      <th>33</th>\n",
       "      <td>255</td>\n",
       "    </tr>\n",
       "    <tr>\n",
       "      <th>23</th>\n",
       "      <td>254</td>\n",
       "    </tr>\n",
       "  </tbody>\n",
       "</table>\n",
       "</div>"
      ],
      "text/plain": [
       "    freq\n",
       "10   265\n",
       "53   264\n",
       "5    257\n",
       "33   255\n",
       "23   254"
      ]
     },
     "execution_count": 20,
     "metadata": {},
     "output_type": "execute_result"
    }
   ],
   "source": [
    "mydf = df.freq.sort_values(ascending=False).head(60).to_frame()\n",
    "mydf.head()"
   ]
  },
  {
   "cell_type": "code",
   "execution_count": 21,
   "metadata": {},
   "outputs": [
    {
     "data": {
      "text/html": [
       "<div>\n",
       "<style scoped>\n",
       "    .dataframe tbody tr th:only-of-type {\n",
       "        vertical-align: middle;\n",
       "    }\n",
       "\n",
       "    .dataframe tbody tr th {\n",
       "        vertical-align: top;\n",
       "    }\n",
       "\n",
       "    .dataframe thead th {\n",
       "        text-align: right;\n",
       "    }\n",
       "</style>\n",
       "<table border=\"1\" class=\"dataframe\">\n",
       "  <thead>\n",
       "    <tr style=\"text-align: right;\">\n",
       "      <th></th>\n",
       "      <th>freq</th>\n",
       "    </tr>\n",
       "  </thead>\n",
       "  <tbody>\n",
       "    <tr>\n",
       "      <th>58</th>\n",
       "      <td>230</td>\n",
       "    </tr>\n",
       "    <tr>\n",
       "      <th>1</th>\n",
       "      <td>231</td>\n",
       "    </tr>\n",
       "    <tr>\n",
       "      <th>15</th>\n",
       "      <td>206</td>\n",
       "    </tr>\n",
       "    <tr>\n",
       "      <th>11</th>\n",
       "      <td>236</td>\n",
       "    </tr>\n",
       "    <tr>\n",
       "      <th>57</th>\n",
       "      <td>219</td>\n",
       "    </tr>\n",
       "    <tr>\n",
       "      <th>29</th>\n",
       "      <td>240</td>\n",
       "    </tr>\n",
       "  </tbody>\n",
       "</table>\n",
       "</div>"
      ],
      "text/plain": [
       "    freq\n",
       "58   230\n",
       "1    231\n",
       "15   206\n",
       "11   236\n",
       "57   219\n",
       "29   240"
      ]
     },
     "execution_count": 21,
     "metadata": {},
     "output_type": "execute_result"
    }
   ],
   "source": [
    "#mydf.iloc[np.random.choice(np.arange(len(mydf)), 6, False)] #úmeros randomicos\n",
    "mydf.loc[np.random.permutation(mydf.index)[:6]] #permutação"
   ]
  },
  {
   "cell_type": "markdown",
   "metadata": {},
   "source": [
    "## Exibindo a frequência dos valores"
   ]
  },
  {
   "cell_type": "code",
   "execution_count": 22,
   "metadata": {},
   "outputs": [],
   "source": [
    "import matplotlib.pyplot as plt"
   ]
  },
  {
   "cell_type": "code",
   "execution_count": 23,
   "metadata": {},
   "outputs": [
    {
     "data": {
      "image/png": "[encoded data removed]",
      "text/plain": [
       "<Figure size 432x288 with 1 Axes>"
      ]
     },
     "metadata": {
      "needs_background": "light"
     },
     "output_type": "display_data"
    }
   ],
   "source": [
    "plt.bar(count.keys(), count.values())\n",
    "plt.xlabel('Valor')\n",
    "plt.ylabel('Ocorrências')\n",
    "plt.show()"
   ]
  },
  {
   "cell_type": "code",
   "execution_count": 24,
   "metadata": {},
   "outputs": [
    {
     "data": {
      "image/png": "[encoded data removed]",
      "text/plain": [
       "<Figure size 432x288 with 1 Axes>"
      ]
     },
     "metadata": {
      "needs_background": "light"
     },
     "output_type": "display_data"
    }
   ],
   "source": [
    "plt.hist(df[\"freq\"], color='red', bins=15)\n",
    "plt.title('Histograma de frequência dos numeros sorteados')\n",
    "plt.xlabel('Frequência')\n",
    "plt.ylabel('Quant. de Valores')\n",
    "\n",
    "# Show graphic\n",
    "plt.show()\n",
    "\n"
   ]
  },
  {
   "cell_type": "code",
   "execution_count": 25,
   "metadata": {},
   "outputs": [
    {
     "data": {
      "text/html": [
       "<div>\n",
       "<style scoped>\n",
       "    .dataframe tbody tr th:only-of-type {\n",
       "        vertical-align: middle;\n",
       "    }\n",
       "\n",
       "    .dataframe tbody tr th {\n",
       "        vertical-align: top;\n",
       "    }\n",
       "\n",
       "    .dataframe thead th {\n",
       "        text-align: right;\n",
       "    }\n",
       "</style>\n",
       "<table border=\"1\" class=\"dataframe\">\n",
       "  <thead>\n",
       "    <tr style=\"text-align: right;\">\n",
       "      <th></th>\n",
       "      <th>freq</th>\n",
       "    </tr>\n",
       "  </thead>\n",
       "  <tbody>\n",
       "    <tr>\n",
       "      <th>count</th>\n",
       "      <td>60.000000</td>\n",
       "    </tr>\n",
       "    <tr>\n",
       "      <th>mean</th>\n",
       "      <td>232.400000</td>\n",
       "    </tr>\n",
       "    <tr>\n",
       "      <th>std</th>\n",
       "      <td>15.970524</td>\n",
       "    </tr>\n",
       "    <tr>\n",
       "      <th>min</th>\n",
       "      <td>193.000000</td>\n",
       "    </tr>\n",
       "    <tr>\n",
       "      <th>25%</th>\n",
       "      <td>220.750000</td>\n",
       "    </tr>\n",
       "    <tr>\n",
       "      <th>50%</th>\n",
       "      <td>235.000000</td>\n",
       "    </tr>\n",
       "    <tr>\n",
       "      <th>75%</th>\n",
       "      <td>242.250000</td>\n",
       "    </tr>\n",
       "    <tr>\n",
       "      <th>max</th>\n",
       "      <td>265.000000</td>\n",
       "    </tr>\n",
       "  </tbody>\n",
       "</table>\n",
       "</div>"
      ],
      "text/plain": [
       "             freq\n",
       "count   60.000000\n",
       "mean   232.400000\n",
       "std     15.970524\n",
       "min    193.000000\n",
       "25%    220.750000\n",
       "50%    235.000000\n",
       "75%    242.250000\n",
       "max    265.000000"
      ]
     },
     "execution_count": 25,
     "metadata": {},
     "output_type": "execute_result"
    }
   ],
   "source": [
    "df.describe()"
   ]
  },
  {
   "cell_type": "code",
   "execution_count": 26,
   "metadata": {},
   "outputs": [
    {
     "data": {
      "text/plain": [
       "<AxesSubplot:>"
      ]
     },
     "execution_count": 26,
     "metadata": {},
     "output_type": "execute_result"
    },
    {
     "data": {
      "image/png": "[encoded data removed]",
      "text/plain": [
       "<Figure size 432x288 with 1 Axes>"
      ]
     },
     "metadata": {
      "needs_background": "light"
     },
     "output_type": "display_data"
    }
   ],
   "source": [
    "df.boxplot()"
   ]
  },
  {
   "cell_type": "code",
   "execution_count": 27,
   "metadata": {},
   "outputs": [
    {
     "name": "stdout",
     "output_type": "stream",
     "text": [
      "1º- 10 {33: 33, 5: 30, 28: 30, 54: 29, 24: 28, 43: 28, 53: 28}\n",
      "2º- 53 {38: 33, 23: 32, 36: 32, 8: 29, 41: 29, 6: 28, 10: 28}\n",
      "3º- 5 {33: 34, 27: 33, 11: 32, 24: 31, 10: 30, 1: 29, 3: 28}\n",
      "4º- 33 {5: 34, 10: 33, 24: 28, 42: 28, 6: 27, 11: 27, 31: 27}\n",
      "5º- 23 {51: 32, 53: 32, 30: 31, 5: 28, 8: 27, 52: 27, 10: 26}\n",
      "6º- 4 {52: 32, 38: 30, 27: 29, 44: 29, 29: 28, 30: 27, 54: 27}\n",
      "7º- 42 {24: 30, 59: 30, 49: 29, 33: 28, 10: 27, 13: 27, 41: 27}\n",
      "8º- 27 {5: 33, 40: 30, 4: 29, 46: 28, 52: 28, 11: 27, 41: 27}\n",
      "9º- 37 {12: 31, 34: 29, 43: 28, 1: 27, 54: 27, 10: 26, 58: 26}\n",
      "10º- 28 {6: 31, 10: 30, 32: 27, 43: 27, 51: 27, 45: 26, 53: 26}\n",
      "11º- 54 {26: 30, 44: 30, 46: 30, 10: 29, 43: 29, 4: 27, 37: 27}\n",
      "12º- 30 {23: 31, 11: 29, 18: 29, 35: 29, 4: 27, 47: 27, 52: 27}\n",
      "13º- 43 {54: 29, 10: 28, 37: 28, 53: 28, 56: 28, 8: 27, 28: 27}\n",
      "14º- 24 {5: 31, 42: 30, 10: 28, 33: 28, 6: 27, 13: 27, 38: 27}\n",
      "15º- 34 {6: 32, 16: 29, 37: 29, 5: 27, 31: 27, 45: 26, 18: 25}\n",
      "16º- 17 {13: 28, 48: 28, 53: 28, 4: 26, 27: 26, 33: 26, 42: 26}\n"
     ]
    }
   ],
   "source": [
    "data = createMatriz(ms)\n",
    "mostFrequenceValues = []\n",
    "for i in range(16):\n",
    "    value = frequenceNumber(data, mydf.index[i])\n",
    "    final = selectMaxNumbers(value[0], 7)\n",
    "    mostFrequenceValues.append({mydf.index[i]: final})\n",
    "    print(\"%dº-\" %(i+1),mydf.index[i], final)"
   ]
  },
  {
   "cell_type": "code",
   "execution_count": 28,
   "metadata": {},
   "outputs": [
    {
     "name": "stdout",
     "output_type": "stream",
     "text": [
      "10 - [43  5 10 54 24 33]\n",
      "10 - [43  5 28 10 53 33]\n",
      "53 - [24 10 28  5 54 43]\n",
      "53 - [33  5 28 43 54 53]\n",
      "5 - [10 53 24 54 28 43]\n",
      "5 - [43 53 54  5 28 33]\n",
      "33 - [53  5 10 54 24 43]\n",
      "33 - [28 10  5 54 33 53]\n",
      "23 - [24 33 53 54 28  5]\n",
      "23 - [54 28 33 24 10  5]\n",
      "4 - [24 28  5 54 10 43]\n",
      "4 - [10 53 24 33  5 28]\n",
      "42 - [28 10 53 24  5 54]\n",
      "42 - [53 54 33 10 24 43]\n"
     ]
    }
   ],
   "source": [
    "t = mostFrequenceValues[0].values()\n",
    "a = list(t)\n",
    "a = list(a[0].keys())\n",
    "a.append(list(mostFrequenceValues[0].keys())[0])\n",
    "\n",
    "for z in range(7):\n",
    "    for i in range(2):\n",
    "        print(list(mostFrequenceValues[z].keys())[0],\"-\", np.random.permutation(a)[:6])"
   ]
  },
  {
   "cell_type": "markdown",
   "metadata": {},
   "source": [
    "## Rede Neural"
   ]
  }
 ],
 "metadata": {
  "kernelspec": {
   "display_name": "Python 3",
   "language": "python",
   "name": "python3"
  },
  "language_info": {
   "codemirror_mode": {
    "name": "ipython",
    "version": 3
   },
   "file_extension": ".py",
   "mimetype": "text/x-python",
   "name": "python",
   "nbconvert_exporter": "python",
   "pygments_lexer": "ipython3",
   "version": "3.7.3"
  }
 },
 "nbformat": 4,
 "nbformat_minor": 4
}
