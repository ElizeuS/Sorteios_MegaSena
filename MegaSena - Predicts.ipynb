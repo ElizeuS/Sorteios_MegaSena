{
 "cells": [
  {
   "cell_type": "code",
   "execution_count": 136,
   "metadata": {},
   "outputs": [],
   "source": [
    "import pandas as pd\n",
    "from collections import Counter\n",
    "import numpy as np\n",
    "from itertools import combinations"
   ]
  },
  {
   "cell_type": "code",
   "execution_count": 3,
   "metadata": {},
   "outputs": [],
   "source": [
    "def createMatriz(dataFrame):\n",
    "    values = []\n",
    "    for i in range(len(dataFrame)):\n",
    "        values.append([\n",
    "             dataFrame.loc[i][\"N1\"], \n",
    "             dataFrame.loc[i][\"N2\"], \n",
    "             dataFrame.loc[i][\"N3\"], \n",
    "             dataFrame.loc[i][\"N4\"], \n",
    "             dataFrame.loc[i][\"N5\"],\n",
    "             dataFrame.loc[i][\"N6\"]])\n",
    "        \n",
    "    return values\n",
    "\n",
    "def createDict(init:int, end:int):\n",
    "    dictCopy = {}\n",
    "    for i in range(init, end):\n",
    "        dictCopy[i] = 0\n",
    "\n",
    "    return dictCopy"
   ]
  },
  {
   "cell_type": "markdown",
   "metadata": {},
   "source": [
    "### A função frequenceNumber(listNumber, nReference), faz uma varredura nas linhas da matriz [listNumber], em busca do valor de referência (nReference) e calcula a frequência dos valores mais associados (presentes nos jogos) ao número solicitado. Ao final temos um dicionário com: "
   ]
  },
  {
   "cell_type": "markdown",
   "metadata": {},
   "source": [
    "~~~python \n",
    "[{\n",
    "  1: 29,\n",
    "  2: 23,\n",
    "  3: 28,\n",
    "  4: 21,\n",
    "  5: 0,\n",
    " ...\n",
    "}, 1285].\n",
    "~~~\n",
    "##### Obs: O próprio número obtém frequência 0, porém, ao final é retornado a frequência total do valor: neste caso para o valor nReference = 5, temos: 1285."
   ]
  },
  {
   "cell_type": "code",
   "execution_count": 4,
   "metadata": {},
   "outputs": [],
   "source": [
    "#\n",
    "def frequenceNumber(listNumber: [], nReference: int):\n",
    "    copy = createDict(1, 61)\n",
    "    count = 0\n",
    "\n",
    "    for y in range(len(listNumber)):\n",
    "        if( nReference in listNumber[y] ):\n",
    "            for x in range(len(listNumber[0])):\n",
    "                if( listNumber[y][x] != nReference ):\n",
    "                    copy[listNumber[y][x]] += 1\n",
    "                    count += 1\n",
    "\n",
    "    return [copy, count]"
   ]
  },
  {
   "cell_type": "markdown",
   "metadata": {},
   "source": [
    "### A função selectMaxNumbers(dictNumber, outSide) tem como objetivo, retornar uma quantidade especifica de valores (outSide) associados que se deseja estudar do dicionário (dictNumber). Por exemplo:"
   ]
  },
  {
   "cell_type": "markdown",
   "metadata": {},
   "source": [
    "~~~python\n",
    "{13: 28, 48: 28, 53: 28, 4: 26, 27: 26, 33: 26, 42: 26}\n",
    "~~~\n",
    "#### Para o valor (outSide = 7), ele retorna os 7 valores mais frequentes associados ao valor chave."
   ]
  },
  {
   "cell_type": "code",
   "execution_count": 5,
   "metadata": {},
   "outputs": [],
   "source": [
    "def selectMaxNumbers(dictNumber: {}, outSide: int):\n",
    "    n = {}\n",
    "\n",
    "    for aux in range(outSide):\n",
    "        for count in range(1, 61):\n",
    "            if( dictNumber[count] == max(dictNumber.values()) and max(dictNumber.values()) != 0 ):\n",
    "                n[count] = dictNumber[count]\n",
    "                dictNumber[count] = 0\n",
    "                break\n",
    "\n",
    "    return n"
   ]
  },
  {
   "cell_type": "code",
   "execution_count": 27,
   "metadata": {},
   "outputs": [
    {
     "data": {
      "text/html": [
       "<div>\n",
       "<style scoped>\n",
       "    .dataframe tbody tr th:only-of-type {\n",
       "        vertical-align: middle;\n",
       "    }\n",
       "\n",
       "    .dataframe tbody tr th {\n",
       "        vertical-align: top;\n",
       "    }\n",
       "\n",
       "    .dataframe thead th {\n",
       "        text-align: right;\n",
       "    }\n",
       "</style>\n",
       "<table border=\"1\" class=\"dataframe\">\n",
       "  <thead>\n",
       "    <tr style=\"text-align: right;\">\n",
       "      <th></th>\n",
       "      <th>Concurso</th>\n",
       "      <th>Data</th>\n",
       "      <th>N1</th>\n",
       "      <th>N2</th>\n",
       "      <th>N3</th>\n",
       "      <th>N4</th>\n",
       "      <th>N5</th>\n",
       "      <th>N6</th>\n",
       "      <th>Ganhadores</th>\n",
       "      <th>Premio</th>\n",
       "      <th>HouveGanhador</th>\n",
       "    </tr>\n",
       "  </thead>\n",
       "  <tbody>\n",
       "    <tr>\n",
       "      <th>0</th>\n",
       "      <td>2669</td>\n",
       "      <td>16/12/2023</td>\n",
       "      <td>4</td>\n",
       "      <td>7</td>\n",
       "      <td>16</td>\n",
       "      <td>35</td>\n",
       "      <td>46</td>\n",
       "      <td>54</td>\n",
       "      <td>0</td>\n",
       "      <td>NaN</td>\n",
       "      <td>8163974.0</td>\n",
       "    </tr>\n",
       "    <tr>\n",
       "      <th>1</th>\n",
       "      <td>2668</td>\n",
       "      <td>14/12/2023</td>\n",
       "      <td>1</td>\n",
       "      <td>27</td>\n",
       "      <td>30</td>\n",
       "      <td>41</td>\n",
       "      <td>46</td>\n",
       "      <td>57</td>\n",
       "      <td>0</td>\n",
       "      <td>NaN</td>\n",
       "      <td>6123188.0</td>\n",
       "    </tr>\n",
       "    <tr>\n",
       "      <th>2</th>\n",
       "      <td>2667</td>\n",
       "      <td>12/12/2023</td>\n",
       "      <td>1</td>\n",
       "      <td>4</td>\n",
       "      <td>8</td>\n",
       "      <td>21</td>\n",
       "      <td>46</td>\n",
       "      <td>51</td>\n",
       "      <td>0</td>\n",
       "      <td>NaN</td>\n",
       "      <td>5403236.0</td>\n",
       "    </tr>\n",
       "    <tr>\n",
       "      <th>3</th>\n",
       "      <td>2666</td>\n",
       "      <td>09/12/2023</td>\n",
       "      <td>5</td>\n",
       "      <td>25</td>\n",
       "      <td>29</td>\n",
       "      <td>30</td>\n",
       "      <td>43</td>\n",
       "      <td>47</td>\n",
       "      <td>1</td>\n",
       "      <td>30781665.32</td>\n",
       "      <td>10479456.0</td>\n",
       "    </tr>\n",
       "    <tr>\n",
       "      <th>4</th>\n",
       "      <td>2665</td>\n",
       "      <td>07/12/2023</td>\n",
       "      <td>3</td>\n",
       "      <td>14</td>\n",
       "      <td>21</td>\n",
       "      <td>22</td>\n",
       "      <td>37</td>\n",
       "      <td>39</td>\n",
       "      <td>0</td>\n",
       "      <td>NaN</td>\n",
       "      <td>8471087.0</td>\n",
       "    </tr>\n",
       "  </tbody>\n",
       "</table>\n",
       "</div>"
      ],
      "text/plain": [
       "   Concurso        Data  N1  N2  N3  N4  N5  N6  Ganhadores       Premio  \\\n",
       "0      2669  16/12/2023   4   7  16  35  46  54           0          NaN   \n",
       "1      2668  14/12/2023   1  27  30  41  46  57           0          NaN   \n",
       "2      2667  12/12/2023   1   4   8  21  46  51           0          NaN   \n",
       "3      2666  09/12/2023   5  25  29  30  43  47           1  30781665.32   \n",
       "4      2665  07/12/2023   3  14  21  22  37  39           0          NaN   \n",
       "\n",
       "   HouveGanhador  \n",
       "0      8163974.0  \n",
       "1      6123188.0  \n",
       "2      5403236.0  \n",
       "3     10479456.0  \n",
       "4      8471087.0  "
      ]
     },
     "execution_count": 27,
     "metadata": {},
     "output_type": "execute_result"
    }
   ],
   "source": [
    "ms = pd.read_excel('MegaSena_2.xlsx')\n",
    "ms.head()"
   ]
  },
  {
   "cell_type": "markdown",
   "metadata": {},
   "source": [
    "#### Verificando o percentual de ganhadores"
   ]
  },
  {
   "cell_type": "code",
   "execution_count": 28,
   "metadata": {},
   "outputs": [],
   "source": [
    "df_ganhadores = ms['Ganhadores']"
   ]
  },
  {
   "cell_type": "code",
   "execution_count": 29,
   "metadata": {},
   "outputs": [],
   "source": [
    "wins = df_ganhadores[(df_ganhadores != 0)]; loss = df_ganhadores[(df_ganhadores == 0)]"
   ]
  },
  {
   "cell_type": "code",
   "execution_count": 30,
   "metadata": {},
   "outputs": [
    {
     "name": "stdout",
     "output_type": "stream",
     "text": [
      "No total, 22.630% dos sorteios houve 1 ganhador ou mais.\n",
      "Resultando em um percentual de 77.370% de sorteios sem vencedores.\n"
     ]
    }
   ],
   "source": [
    "wins_freq = (wins.count()/df_ganhadores.count())*100; \n",
    "print(\"No total, %.3f%% dos sorteios houve 1 ganhador ou mais.\" % wins_freq)\n",
    "print(\"Resultando em um percentual de %.3f%% de sorteios sem vencedores.\" % (100-wins_freq))"
   ]
  },
  {
   "cell_type": "code",
   "execution_count": 49,
   "metadata": {},
   "outputs": [
    {
     "data": {
      "text/plain": [
       "0.3420756837766954"
      ]
     },
     "execution_count": 49,
     "metadata": {},
     "output_type": "execute_result"
    }
   ],
   "source": [
    "df_ganhadores.mean()"
   ]
  },
  {
   "cell_type": "markdown",
   "metadata": {},
   "source": [
    "#### Pegando o numero de vencedores por concursos premiados"
   ]
  },
  {
   "cell_type": "code",
   "execution_count": 65,
   "metadata": {},
   "outputs": [],
   "source": [
    "apenas_gfanhadores = df_ganhadores[df_ganhadores != 0]"
   ]
  },
  {
   "cell_type": "code",
   "execution_count": 64,
   "metadata": {},
   "outputs": [
    {
     "name": "stdout",
     "output_type": "stream",
     "text": [
      "De todos os sorteios houveram no mínimo 1, em média 1.512 e no máximo 52 ganhadores por sorteio prremiado.\n"
     ]
    }
   ],
   "source": [
    "print(\"De todos os sorteios houveram no mínimo {:.0f}, em média {:.3f} e no máximo {:.0f} ganhadores por sorteio prremiado.\".format(apenas_gfanhadores.min(), apenas_gfanhadores.mean(), apenas_gfanhadores.max()))"
   ]
  },
  {
   "cell_type": "markdown",
   "metadata": {},
   "source": [
    "## Unindo todos os valores jogados em uma única coluna"
   ]
  },
  {
   "cell_type": "code",
   "execution_count": 66,
   "metadata": {},
   "outputs": [],
   "source": [
    "all_values = pd.concat([ms.N1, ms.N2, ms.N3, ms.N4, ms.N5, ms.N6])"
   ]
  },
  {
   "cell_type": "markdown",
   "metadata": {},
   "source": [
    "## Agrupando os valores e verificando a frequência geral dos valores"
   ]
  },
  {
   "cell_type": "code",
   "execution_count": 67,
   "metadata": {},
   "outputs": [
    {
     "data": {
      "text/plain": [
       "0        4\n",
       "1        1\n",
       "2        1\n",
       "3        5\n",
       "4        3\n",
       "        ..\n",
       "2664    46\n",
       "2665    59\n",
       "2666    47\n",
       "2667    49\n",
       "2668    52\n",
       "Length: 16014, dtype: int64"
      ]
     },
     "execution_count": 67,
     "metadata": {},
     "output_type": "execute_result"
    }
   ],
   "source": [
    "all_values"
   ]
  },
  {
   "cell_type": "code",
   "execution_count": 135,
   "metadata": {},
   "outputs": [],
   "source": [
    "count = Counter(all_values.sort_values(ascending=True))"
   ]
  },
  {
   "cell_type": "code",
   "execution_count": 69,
   "metadata": {},
   "outputs": [
    {
     "data": {
      "text/plain": [
       "collections.Counter"
      ]
     },
     "execution_count": 69,
     "metadata": {},
     "output_type": "execute_result"
    }
   ],
   "source": [
    "type(count)"
   ]
  },
  {
   "cell_type": "code",
   "execution_count": 70,
   "metadata": {},
   "outputs": [],
   "source": [
    "df = pd.DataFrame.from_dict(count, orient='index') #convertendo o objeto collections.Count em pd.DataFrame"
   ]
  },
  {
   "cell_type": "code",
   "execution_count": 71,
   "metadata": {},
   "outputs": [
    {
     "data": {
      "text/html": [
       "<div>\n",
       "<style scoped>\n",
       "    .dataframe tbody tr th:only-of-type {\n",
       "        vertical-align: middle;\n",
       "    }\n",
       "\n",
       "    .dataframe tbody tr th {\n",
       "        vertical-align: top;\n",
       "    }\n",
       "\n",
       "    .dataframe thead th {\n",
       "        text-align: right;\n",
       "    }\n",
       "</style>\n",
       "<table border=\"1\" class=\"dataframe\">\n",
       "  <thead>\n",
       "    <tr style=\"text-align: right;\">\n",
       "      <th></th>\n",
       "      <th>0</th>\n",
       "    </tr>\n",
       "  </thead>\n",
       "  <tbody>\n",
       "    <tr>\n",
       "      <th>1</th>\n",
       "      <td>256</td>\n",
       "    </tr>\n",
       "    <tr>\n",
       "      <th>2</th>\n",
       "      <td>268</td>\n",
       "    </tr>\n",
       "    <tr>\n",
       "      <th>3</th>\n",
       "      <td>248</td>\n",
       "    </tr>\n",
       "    <tr>\n",
       "      <th>4</th>\n",
       "      <td>283</td>\n",
       "    </tr>\n",
       "    <tr>\n",
       "      <th>5</th>\n",
       "      <td>297</td>\n",
       "    </tr>\n",
       "  </tbody>\n",
       "</table>\n",
       "</div>"
      ],
      "text/plain": [
       "     0\n",
       "1  256\n",
       "2  268\n",
       "3  248\n",
       "4  283\n",
       "5  297"
      ]
     },
     "execution_count": 71,
     "metadata": {},
     "output_type": "execute_result"
    }
   ],
   "source": [
    "df.head()"
   ]
  },
  {
   "cell_type": "code",
   "execution_count": 72,
   "metadata": {},
   "outputs": [],
   "source": [
    "df.columns = ['freq'] #renomeado a coluna da frequência"
   ]
  },
  {
   "cell_type": "code",
   "execution_count": 73,
   "metadata": {},
   "outputs": [],
   "source": [
    "total = df['freq'].sum() #total de valores (daria no mesmo fazer (ms['Concurso'].count())/6 )\n",
    "jogos = ms['Concurso'].count() #número total de jogos"
   ]
  },
  {
   "cell_type": "code",
   "execution_count": 74,
   "metadata": {},
   "outputs": [
    {
     "data": {
      "text/plain": [
       "16014"
      ]
     },
     "execution_count": 74,
     "metadata": {},
     "output_type": "execute_result"
    }
   ],
   "source": [
    "total"
   ]
  },
  {
   "cell_type": "code",
   "execution_count": 75,
   "metadata": {},
   "outputs": [
    {
     "data": {
      "text/plain": [
       "2669"
      ]
     },
     "execution_count": 75,
     "metadata": {},
     "output_type": "execute_result"
    }
   ],
   "source": [
    "jogos"
   ]
  },
  {
   "cell_type": "markdown",
   "metadata": {},
   "source": [
    "#### Selecionando valores leatórios dentro dos 50 números mais sorteados"
   ]
  },
  {
   "cell_type": "code",
   "execution_count": 76,
   "metadata": {},
   "outputs": [
    {
     "data": {
      "text/html": [
       "<div>\n",
       "<style scoped>\n",
       "    .dataframe tbody tr th:only-of-type {\n",
       "        vertical-align: middle;\n",
       "    }\n",
       "\n",
       "    .dataframe tbody tr th {\n",
       "        vertical-align: top;\n",
       "    }\n",
       "\n",
       "    .dataframe thead th {\n",
       "        text-align: right;\n",
       "    }\n",
       "</style>\n",
       "<table border=\"1\" class=\"dataframe\">\n",
       "  <thead>\n",
       "    <tr style=\"text-align: right;\">\n",
       "      <th></th>\n",
       "      <th>freq</th>\n",
       "    </tr>\n",
       "  </thead>\n",
       "  <tbody>\n",
       "    <tr>\n",
       "      <th>10</th>\n",
       "      <td>311</td>\n",
       "    </tr>\n",
       "    <tr>\n",
       "      <th>53</th>\n",
       "      <td>306</td>\n",
       "    </tr>\n",
       "    <tr>\n",
       "      <th>5</th>\n",
       "      <td>297</td>\n",
       "    </tr>\n",
       "    <tr>\n",
       "      <th>37</th>\n",
       "      <td>289</td>\n",
       "    </tr>\n",
       "    <tr>\n",
       "      <th>23</th>\n",
       "      <td>287</td>\n",
       "    </tr>\n",
       "  </tbody>\n",
       "</table>\n",
       "</div>"
      ],
      "text/plain": [
       "    freq\n",
       "10   311\n",
       "53   306\n",
       "5    297\n",
       "37   289\n",
       "23   287"
      ]
     },
     "execution_count": 76,
     "metadata": {},
     "output_type": "execute_result"
    }
   ],
   "source": [
    "mydf = df.freq.sort_values(ascending=False).head(60).to_frame()\n",
    "mydf.head()"
   ]
  },
  {
   "cell_type": "code",
   "execution_count": 77,
   "metadata": {},
   "outputs": [
    {
     "data": {
      "text/html": [
       "<div>\n",
       "<style scoped>\n",
       "    .dataframe tbody tr th:only-of-type {\n",
       "        vertical-align: middle;\n",
       "    }\n",
       "\n",
       "    .dataframe tbody tr th {\n",
       "        vertical-align: top;\n",
       "    }\n",
       "\n",
       "    .dataframe thead th {\n",
       "        text-align: right;\n",
       "    }\n",
       "</style>\n",
       "<table border=\"1\" class=\"dataframe\">\n",
       "  <thead>\n",
       "    <tr style=\"text-align: right;\">\n",
       "      <th></th>\n",
       "      <th>freq</th>\n",
       "    </tr>\n",
       "  </thead>\n",
       "  <tbody>\n",
       "    <tr>\n",
       "      <th>55</th>\n",
       "      <td>226</td>\n",
       "    </tr>\n",
       "    <tr>\n",
       "      <th>45</th>\n",
       "      <td>258</td>\n",
       "    </tr>\n",
       "    <tr>\n",
       "      <th>7</th>\n",
       "      <td>250</td>\n",
       "    </tr>\n",
       "    <tr>\n",
       "      <th>35</th>\n",
       "      <td>284</td>\n",
       "    </tr>\n",
       "    <tr>\n",
       "      <th>50</th>\n",
       "      <td>259</td>\n",
       "    </tr>\n",
       "    <tr>\n",
       "      <th>1</th>\n",
       "      <td>256</td>\n",
       "    </tr>\n",
       "  </tbody>\n",
       "</table>\n",
       "</div>"
      ],
      "text/plain": [
       "    freq\n",
       "55   226\n",
       "45   258\n",
       "7    250\n",
       "35   284\n",
       "50   259\n",
       "1    256"
      ]
     },
     "execution_count": 77,
     "metadata": {},
     "output_type": "execute_result"
    }
   ],
   "source": [
    "#mydf.iloc[np.random.choice(np.arange(len(mydf)), 6, False)] #úmeros randomicos\n",
    "mydf.loc[np.random.permutation(mydf.index)[:6]] #permutação"
   ]
  },
  {
   "cell_type": "markdown",
   "metadata": {},
   "source": [
    "## Exibindo a frequência dos valores"
   ]
  },
  {
   "cell_type": "code",
   "execution_count": 79,
   "metadata": {},
   "outputs": [],
   "source": [
    "import matplotlib.pyplot as plt"
   ]
  },
  {
   "cell_type": "code",
   "execution_count": 133,
   "metadata": {},
   "outputs": [
    {
     "data": {
      "image/png": "[encoded data removed]",
      "text/plain": [
       "<Figure size 1000x500 with 1 Axes>"
      ]
     },
     "metadata": {},
     "output_type": "display_data"
    }
   ],
   "source": [
    "plt.figure(figsize=(10, 5))\n",
    "\n",
    "plt.bar(count.keys(), count.values())\n",
    "plt.xlabel('Valor')\n",
    "plt.ylabel('Ocorrências')\n",
    "\n",
    "min_value = min(count.values())\n",
    "median_value = np.median(list(count.values()))\n",
    "max_value = max(count.values())\n",
    "\n",
    "plt.axhline(y=min_value, color='magenta', linestyle='dashed', linewidth=1, label=f'Mínimo: {min_value}')\n",
    "plt.axhline(y=median_value, color='red', linestyle='dashed', linewidth=1, label=f'Mediana: {median_value}')\n",
    "plt.axhline(y=max_value, color='green', linestyle='dashed', linewidth=1, label=f'Máximo: {max_value}')\n",
    "\n",
    "plt.legend(loc='upper center', bbox_to_anchor=(0.5, -0.1), ncol=3)\n",
    "\n",
    "plt.show()"
   ]
  },
  {
   "cell_type": "code",
   "execution_count": 127,
   "metadata": {},
   "outputs": [
    {
     "data": {
      "image/png": "[encoded data removed]",
      "text/plain": [
       "<Figure size 640x480 with 1 Axes>"
      ]
     },
     "metadata": {},
     "output_type": "display_data"
    }
   ],
   "source": [
    "plt.hist(df[\"freq\"], color='red', bins=10)\n",
    "plt.title('Histograma de frequência dos numeros sorteados')\n",
    "plt.xlabel('Frequência')\n",
    "plt.ylabel('Quant. de Valores')\n",
    "\n",
    "# Show graphic\n",
    "plt.show()\n",
    "\n"
   ]
  },
  {
   "cell_type": "code",
   "execution_count": 113,
   "metadata": {},
   "outputs": [
    {
     "data": {
      "text/html": [
       "<div>\n",
       "<style scoped>\n",
       "    .dataframe tbody tr th:only-of-type {\n",
       "        vertical-align: middle;\n",
       "    }\n",
       "\n",
       "    .dataframe tbody tr th {\n",
       "        vertical-align: top;\n",
       "    }\n",
       "\n",
       "    .dataframe thead th {\n",
       "        text-align: right;\n",
       "    }\n",
       "</style>\n",
       "<table border=\"1\" class=\"dataframe\">\n",
       "  <thead>\n",
       "    <tr style=\"text-align: right;\">\n",
       "      <th></th>\n",
       "      <th>freq</th>\n",
       "    </tr>\n",
       "  </thead>\n",
       "  <tbody>\n",
       "    <tr>\n",
       "      <th>count</th>\n",
       "      <td>60.000000</td>\n",
       "    </tr>\n",
       "    <tr>\n",
       "      <th>mean</th>\n",
       "      <td>266.900000</td>\n",
       "    </tr>\n",
       "    <tr>\n",
       "      <th>std</th>\n",
       "      <td>18.535079</td>\n",
       "    </tr>\n",
       "    <tr>\n",
       "      <th>min</th>\n",
       "      <td>224.000000</td>\n",
       "    </tr>\n",
       "    <tr>\n",
       "      <th>25%</th>\n",
       "      <td>255.750000</td>\n",
       "    </tr>\n",
       "    <tr>\n",
       "      <th>50%</th>\n",
       "      <td>268.500000</td>\n",
       "    </tr>\n",
       "    <tr>\n",
       "      <th>75%</th>\n",
       "      <td>280.500000</td>\n",
       "    </tr>\n",
       "    <tr>\n",
       "      <th>max</th>\n",
       "      <td>311.000000</td>\n",
       "    </tr>\n",
       "  </tbody>\n",
       "</table>\n",
       "</div>"
      ],
      "text/plain": [
       "             freq\n",
       "count   60.000000\n",
       "mean   266.900000\n",
       "std     18.535079\n",
       "min    224.000000\n",
       "25%    255.750000\n",
       "50%    268.500000\n",
       "75%    280.500000\n",
       "max    311.000000"
      ]
     },
     "execution_count": 113,
     "metadata": {},
     "output_type": "execute_result"
    }
   ],
   "source": [
    "df.describe()"
   ]
  },
  {
   "cell_type": "code",
   "execution_count": 114,
   "metadata": {},
   "outputs": [
    {
     "data": {
      "text/plain": [
       "<Axes: >"
      ]
     },
     "execution_count": 114,
     "metadata": {},
     "output_type": "execute_result"
    },
    {
     "data": {
      "image/png": "[encoded data removed]",
      "text/plain": [
       "<Figure size 640x480 with 1 Axes>"
      ]
     },
     "metadata": {},
     "output_type": "display_data"
    }
   ],
   "source": [
    "df.boxplot()"
   ]
  },
  {
   "cell_type": "markdown",
   "metadata": {},
   "source": [
    "#### Exibindo uma relação dos 15 números mais sorteados, juntamente com a relação dos 10 números que mais aparecem em sorteios juntamente com o valor chave."
   ]
  },
  {
   "cell_type": "markdown",
   "metadata": {},
   "source": [
    "**Exemplo Ilustrativo de Frequência:**\n",
    "\n",
    "Para o número 10, as ocorrências em ordem crescente de aparecimento são:\n",
    "\n",
    "- Número 33: 37 vezes\n",
    "- Número 5: 35 vezes\n",
    "\n",
    "Isso significa que, ao analisar os sorteios do número 10, observamos que o número 33 apareceu 37 vezes, enquanto o número 5 apareceu 35 vezes, representando suas frequências respectivas.\n"
   ]
  },
  {
   "cell_type": "code",
   "execution_count": 184,
   "metadata": {},
   "outputs": [],
   "source": [
    "rank = 15\n",
    "proximos = 10"
   ]
  },
  {
   "cell_type": "code",
   "execution_count": 185,
   "metadata": {},
   "outputs": [
    {
     "name": "stdout",
     "output_type": "stream",
     "text": [
      "1º- 10 {33: 37, 5: 35, 28: 34, 34: 33, 53: 32, 54: 32, 56: 32, 23: 31, 1: 30, 24: 30}\n",
      "2º- 53 {38: 39, 23: 38, 36: 38, 41: 35, 8: 33, 10: 32, 55: 32, 6: 31, 13: 31, 17: 31}\n",
      "3º- 5 {27: 37, 11: 36, 33: 36, 10: 35, 24: 34, 1: 33, 23: 33, 18: 31, 3: 30, 25: 30}\n",
      "4º- 37 {12: 34, 11: 32, 43: 32, 1: 31, 10: 30, 34: 30, 38: 30, 39: 30, 58: 30, 6: 29}\n",
      "5º- 23 {53: 38, 30: 36, 5: 33, 51: 33, 10: 31, 47: 31, 8: 30, 29: 30, 3: 29, 49: 29}\n",
      "6º- 34 {6: 35, 10: 33, 16: 31, 5: 30, 37: 30, 45: 30, 53: 30, 19: 29, 31: 29, 8: 28}\n",
      "7º- 33 {10: 37, 5: 36, 32: 32, 42: 32, 8: 31, 24: 30, 36: 30, 48: 30, 6: 29, 11: 29}\n",
      "8º- 30 {23: 36, 18: 34, 35: 33, 8: 32, 11: 31, 14: 31, 52: 31, 4: 30, 25: 29, 32: 29}\n",
      "9º- 35 {2: 33, 30: 33, 32: 32, 39: 31, 5: 30, 14: 30, 16: 30, 29: 30, 6: 29, 43: 29}\n",
      "10º- 32 {12: 32, 33: 32, 35: 32, 8: 31, 28: 31, 40: 31, 5: 30, 10: 30, 38: 30, 48: 30}\n",
      "11º- 41 {9: 36, 58: 36, 53: 35, 25: 33, 42: 33, 13: 32, 27: 31, 49: 31, 19: 28, 23: 28}\n",
      "12º- 4 {38: 34, 52: 33, 29: 32, 27: 31, 44: 31, 56: 31, 30: 30, 53: 30, 13: 29, 17: 29}\n",
      "13º- 44 {36: 32, 54: 32, 4: 31, 42: 31, 29: 30, 40: 30, 55: 30, 60: 30, 1: 29, 12: 29}\n",
      "14º- 38 {53: 39, 4: 34, 29: 33, 16: 32, 50: 31, 32: 30, 37: 30, 21: 29, 24: 29, 28: 29}\n",
      "15º- 42 {41: 33, 49: 33, 33: 32, 44: 31, 59: 31, 24: 30, 31: 30, 47: 30, 10: 29, 13: 29}\n"
     ]
    }
   ],
   "source": [
    "data = createMatriz(ms)\n",
    "mostFrequenceValues = []\n",
    "for i in range(rank):\n",
    "    value = frequenceNumber(data, mydf.index[i])\n",
    "    final = selectMaxNumbers(value[0], proximos)\n",
    "    mostFrequenceValues.append({mydf.index[i]: final})\n",
    "    print(\"%dº-\" %(i+1),mydf.index[i], final)"
   ]
  },
  {
   "cell_type": "code",
   "execution_count": 132,
   "metadata": {},
   "outputs": [
    {
     "name": "stdout",
     "output_type": "stream",
     "text": [
      "10 - [54 53 56 33  1 10]\n",
      "10 - [56 24 28 23 33 10]\n",
      "53 - [28 10  5 56 53 24]\n",
      "53 - [28 56  1  5 10 23]\n",
      "5 - [53 34  5 33 28  1]\n",
      "5 - [24 54 33 28 34  5]\n",
      "37 - [53 28 34  1 24 23]\n",
      "37 - [34 24 54 23 56  5]\n",
      "23 - [28  5  1 53 10 24]\n",
      "23 - [34  5  1 28 56 10]\n",
      "34 - [56  1 23 33  5 28]\n",
      "34 - [33 28 34  5  1 24]\n",
      "33 - [ 1  5 56 33 23 24]\n",
      "33 - [ 5 24 23 28 53 34]\n"
     ]
    }
   ],
   "source": [
    "t = mostFrequenceValues[0].values()\n",
    "a = list(t)\n",
    "a = list(a[0].keys())\n",
    "a.append(list(mostFrequenceValues[0].keys())[0])\n",
    "\n",
    "for z in range(7):\n",
    "    for i in range(2):\n",
    "        print(list(mostFrequenceValues[z].keys())[0],\"-\", np.random.permutation(a)[:6])"
   ]
  },
  {
   "cell_type": "markdown",
   "metadata": {},
   "source": [
    "## Aparições em sorteios"
   ]
  },
  {
   "cell_type": "code",
   "execution_count": 181,
   "metadata": {},
   "outputs": [
    {
     "name": "stdout",
     "output_type": "stream",
     "text": [
      "      Concurso  Sequencia_Alvo\n",
      "1004      1665            True\n"
     ]
    }
   ],
   "source": [
    "# Conjunto de 6 números que você quer verificar\n",
    "conjunto_alvo = {1, 5, 11, 16, 20, 56}  \n",
    "df_ms = ms\n",
    "\n",
    "def verifica_sequencia_alvo(row):\n",
    "    numeros_sorteio = set(row[['N1', 'N2', 'N3', 'N4', 'N5', 'N6']])\n",
    "    return conjunto_alvo == numeros_sorteio\n",
    "\n",
    "df_ms['Sequencia_Alvo'] = df_ms.apply(verifica_sequencia_alvo, axis=1)\n",
    "\n",
    "resultados = df_ms[df_ms['Sequencia_Alvo']]\n",
    "\n",
    "print(resultados[['Concurso', 'Sequencia_Alvo']])"
   ]
  },
  {
   "cell_type": "code",
   "execution_count": null,
   "metadata": {},
   "outputs": [],
   "source": []
  }
 ],
 "metadata": {
  "kernelspec": {
   "display_name": "Python 3",
   "language": "python",
   "name": "python3"
  },
  "language_info": {
   "codemirror_mode": {
    "name": "ipython",
    "version": 3
   },
   "file_extension": ".py",
   "mimetype": "text/x-python",
   "name": "python",
   "nbconvert_exporter": "python",
   "pygments_lexer": "ipython3",
   "version": "3.10.12"
  }
 },
 "nbformat": 4,
 "nbformat_minor": 4
}
